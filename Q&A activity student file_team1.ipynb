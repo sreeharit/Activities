{
 "cells": [
  {
   "cell_type": "markdown",
   "metadata": {
    "id": "4z_Z-K1tlrS7"
   },
   "source": [
    "## 1. Complete the following code to find the area of an equilateral triangle. Output should be as displayed"
   ]
  },
  {
   "cell_type": "code",
   "execution_count": 1,
   "metadata": {
    "id": "rP2qFD_SlrS_"
   },
   "outputs": [
    {
     "name": "stdout",
     "output_type": "stream",
     "text": [
      "Enter the side of the equilateral triangle: 5\n",
      "Area of the equilateral triangle is 10.825\n"
     ]
    }
   ],
   "source": [
    "import math\n",
    "side = float(input(\"Enter the side of the equilateral triangle: \"))\n",
    "area = ((math.sqrt(3))/4)*pow(side,2)\n",
    "print(\"Area of the equilateral triangle is\", round(area,3))"
   ]
  },
  {
   "cell_type": "markdown",
   "metadata": {
    "id": "TjVKjIfclrTB"
   },
   "source": [
    "## 2. Write a program to count the number of each characters in a string"
   ]
  },
  {
   "cell_type": "code",
   "execution_count": 2,
   "metadata": {
    "id": "JY5seVUQlrTC"
   },
   "outputs": [
    {
     "name": "stdout",
     "output_type": "stream",
     "text": [
      "Enter the string: Sreehari T\n",
      "r = 2\n",
      "e = 2\n",
      "h = 1\n",
      "a = 1\n",
      "i = 1\n",
      "t = 1\n",
      "s = 1\n"
     ]
    }
   ],
   "source": [
    "n=input(\"Enter the string: \").lower()\n",
    "n=n.replace(\" \",\"\")\n",
    "s=set(n)\n",
    "for i in s:\n",
    "       print(i,\"=\",n.count(i))"
   ]
  },
  {
   "cell_type": "markdown",
   "metadata": {
    "id": "l3LCULfklrTD"
   },
   "source": [
    "## Write a program to find the area and perimeter of a rectangle using functions"
   ]
  },
  {
   "cell_type": "code",
   "execution_count": 3,
   "metadata": {
    "id": "8haQD8edlrTD"
   },
   "outputs": [
    {
     "name": "stdout",
     "output_type": "stream",
     "text": [
      "Enter length of the rectangle: 5\n",
      "Enter breadth(width) of the rectangle: 6.5\n",
      "Area of the rectangle:  32.5\n",
      "Perimeter of the rectangle:  23.0\n"
     ]
    }
   ],
   "source": [
    "l=float(input(\"Enter length of the rectangle: \"))\n",
    "b=float(input(\"Enter breadth(width) of the rectangle: \"))\n",
    "\n",
    "def area(a,b):\n",
    "    value=a*b\n",
    "    return value\n",
    "\n",
    "def perimeter(a,b):\n",
    "    value=(a+b)*2\n",
    "    return value\n",
    "\n",
    "print(\"Area of the rectangle: \", area(l,b))\n",
    "print(\"Perimeter of the rectangle: \", perimeter(l,b))\n"
   ]
  },
  {
   "cell_type": "markdown",
   "metadata": {
    "id": "JHK4ZdsflrTE"
   },
   "source": [
    "## 4. Write a program to print the fibonacci series till a specified number"
   ]
  },
  {
   "cell_type": "code",
   "execution_count": 4,
   "metadata": {
    "id": "LyBEj-4SlrTE"
   },
   "outputs": [
    {
     "name": "stdout",
     "output_type": "stream",
     "text": [
      "How many numbers of fibonacci to be printed? :7\n",
      "Fibonacci series: \n",
      "0 1 1 2 3 5 8 "
     ]
    }
   ],
   "source": [
    "limit=int(input(\"How many numbers of fibonacci to be printed? :\"))\n",
    "\n",
    "if (limit==0) or limit<0:\n",
    "    print(\"Enter a non zero positive number\")\n",
    "else:\n",
    "    num1=0\n",
    "    num2=1\n",
    "    count=0\n",
    "    if limit==1:\n",
    "        print(\"Fibonacci series: \",num1)\n",
    "    else:\n",
    "        print(\"Fibonacci series: \")\n",
    "        while (count<limit):\n",
    "            print(num1,end=\" \")\n",
    "            num3=num1+num2\n",
    "            num1=num2\n",
    "            num2=num3\n",
    "            count+=1"
   ]
  },
  {
   "cell_type": "markdown",
   "metadata": {
    "id": "u4uBUcQKlrTE"
   },
   "source": [
    "## 5. Complete the following code to find the minimum of 3 number using cinditional statements. Output should be as displayed"
   ]
  },
  {
   "cell_type": "code",
   "execution_count": 5,
   "metadata": {
    "id": "XdZwrZjIlrTF"
   },
   "outputs": [
    {
     "name": "stdout",
     "output_type": "stream",
     "text": [
      "Enter three numbers followed by space : 4 6 2\n",
      "First number : 4\n",
      "Second number : 6\n",
      "Third number : 2\n",
      "2  is smallest\n"
     ]
    }
   ],
   "source": [
    "a,b,c = input(\"Enter three numbers followed by space : \").split()\n",
    "print(\"First number :\",a)\n",
    "print(\"Second number :\",b)\n",
    "print(\"Third number :\",c)\n",
    "if(a==b==c):\n",
    "    print(\"Entered numbers are equal!!!\")\n",
    "elif((a<b) and (a<c)):\n",
    "    print(a,\" is smallest\")\n",
    "elif(b<c):\n",
    "    print(b,\" is smallest\")\n",
    "else:\n",
    "    print(c,\" is smallest\")"
   ]
  },
  {
   "cell_type": "markdown",
   "metadata": {
    "id": "aR_CnToWlrTG"
   },
   "source": [
    "## 6. Write a program to print star pyramind. The number of rows should be taken as input from the user"
   ]
  },
  {
   "cell_type": "code",
   "execution_count": 6,
   "metadata": {
    "id": "M37A-buplrTG"
   },
   "outputs": [
    {
     "name": "stdout",
     "output_type": "stream",
     "text": [
      "Enter no of steps for pyramid = 5\n",
      "Star Pyramid\n",
      "    * \n",
      "   * * \n",
      "  * * * \n",
      " * * * * \n",
      "* * * * * \n"
     ]
    }
   ],
   "source": [
    "steps = int(input(\"Enter no of steps for pyramid = \"))\n",
    "\n",
    "print(\"Star Pyramid\") \n",
    "\n",
    "for i in range(0, steps):\n",
    "    for j in range(0, steps-i-1):\n",
    "        print(end=' ') \n",
    "    for k in range(0, i+1):\n",
    "        print('*', end = ' ')\n",
    "    print(\"\\r\")"
   ]
  },
  {
   "cell_type": "markdown",
   "metadata": {
    "id": "tlY6aFWBlrTH"
   },
   "source": [
    "## 7. Complete the following code to convert hour into seconds. Output should be as displayed"
   ]
  },
  {
   "cell_type": "code",
   "execution_count": 7,
   "metadata": {
    "id": "YOZQFk7FlrTH"
   },
   "outputs": [
    {
     "name": "stdout",
     "output_type": "stream",
     "text": [
      "Enter time in hours: 4\n",
      "4  Hour is equal to 14400  Seconds\n"
     ]
    }
   ],
   "source": [
    "def to_seconds(t):\n",
    "    t=t*3600\n",
    "    return t\n",
    "time_in_hours = int(input(\"Enter time in hours: \"))\n",
    "print(time_in_hours ,\" Hour is equal to\" ,to_seconds(time_in_hours) ,\" Seconds\")"
   ]
  },
  {
   "cell_type": "markdown",
   "metadata": {
    "id": "CnYorNiLlrTI"
   },
   "source": [
    "## 8. Write a program to print multiplication table as below"
   ]
  },
  {
   "cell_type": "code",
   "execution_count": 8,
   "metadata": {
    "id": "dPQqDPuDlrTI"
   },
   "outputs": [
    {
     "name": "stdout",
     "output_type": "stream",
     "text": [
      "Enter the number: 6\n",
      "Multiplication table of  6\n",
      "1 * 6 = 6\n",
      "2 * 6 = 12\n",
      "3 * 6 = 18\n",
      "4 * 6 = 24\n",
      "5 * 6 = 30\n",
      "6 * 6 = 36\n",
      "7 * 6 = 42\n",
      "8 * 6 = 48\n",
      "9 * 6 = 54\n",
      "10 * 6 = 60\n"
     ]
    }
   ],
   "source": [
    "num=int(input(\"Enter the number: \"))\n",
    "\n",
    "def table(n):\n",
    "    for i in range(1,11):\n",
    "        print(i,\"*\",n,\"=\",i*n)\n",
    "\n",
    "print(\"Multiplication table of \",num)\n",
    "table(num)"
   ]
  },
  {
   "cell_type": "markdown",
   "metadata": {
    "id": "Fiaez8iblrTI"
   },
   "source": [
    "## 9. Write a program to take your 5 favorite food as list and print each as 'I like Biriyani'"
   ]
  },
  {
   "cell_type": "code",
   "execution_count": 9,
   "metadata": {
    "id": "39W1zFX7lrTJ"
   },
   "outputs": [
    {
     "name": "stdout",
     "output_type": "stream",
     "text": [
      "Enter your 5 favourite food: Biriyani Noodles Momos Chappathi shawarma\n",
      "I like Biriyani\n",
      "I like Noodles\n",
      "I like Momos\n",
      "I like Chappathi\n",
      "I like shawarma\n"
     ]
    }
   ],
   "source": [
    "my_list=list(input(\"Enter your 5 favourite food: \").split())\n",
    "\n",
    "for i in range(0,5):\n",
    "    print(\"I like\",my_list[i])\n"
   ]
  },
  {
   "cell_type": "markdown",
   "metadata": {
    "id": "3vlcDNNEP7d_"
   },
   "source": [
    "## 10. Find error(s) in the following code(if any) and rewrite code.\n",
    "\n"
   ]
  },
  {
   "cell_type": "code",
   "execution_count": 10,
   "metadata": {
    "id": "coREkcY3P9sG"
   },
   "outputs": [
    {
     "name": "stdout",
     "output_type": "stream",
     "text": [
      "Enter 2 numbers:4 5\n",
      "They are unequal\n"
     ]
    }
   ],
   "source": [
    "x,y= list(input(\"Enter 2 numbers:\").split())\n",
    "\n",
    "if x==y:\n",
    "    print(\"They are equal\")\n",
    "else:\n",
    "    print( \"They are unequal\")"
   ]
  },
  {
   "cell_type": "code",
   "execution_count": null,
   "metadata": {},
   "outputs": [],
   "source": []
  }
 ],
 "metadata": {
  "colab": {
   "collapsed_sections": [],
   "name": "Q&A activity student file.ipynb",
   "provenance": []
  },
  "kernelspec": {
   "display_name": "Python 3",
   "language": "python",
   "name": "python3"
  },
  "language_info": {
   "codemirror_mode": {
    "name": "ipython",
    "version": 3
   },
   "file_extension": ".py",
   "mimetype": "text/x-python",
   "name": "python",
   "nbconvert_exporter": "python",
   "pygments_lexer": "ipython3",
   "version": "3.8.8"
  }
 },
 "nbformat": 4,
 "nbformat_minor": 1
}
