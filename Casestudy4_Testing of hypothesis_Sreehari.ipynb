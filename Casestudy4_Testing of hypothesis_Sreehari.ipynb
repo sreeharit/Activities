{
 "cells": [
  {
   "cell_type": "markdown",
   "id": "dbe62d41",
   "metadata": {},
   "source": [
    "A company started to invest in digital marketing as a new way of their product\n",
    "promotions.For that they collected data and decided to carry out a study on it.\n",
    "\n",
    "● The company wishes to clarify whether there is any increase in sales after\n",
    "stepping into digital marketing.\n",
    "\n",
    "● The company needs to check whether there is any dependency between the\n",
    "features “Region” and “Manager”.\n",
    "Help the company to carry out their study with the help of data provided."
   ]
  },
  {
   "cell_type": "code",
   "execution_count": 17,
   "id": "66ee3b6b",
   "metadata": {},
   "outputs": [],
   "source": [
    "import pandas as pd\n",
    "import numpy as np\n",
    "import seaborn as sns\n",
    "import scipy.stats as stats"
   ]
  },
  {
   "cell_type": "markdown",
   "id": "45bad45a",
   "metadata": {},
   "source": [
    "Imported required packages"
   ]
  },
  {
   "cell_type": "code",
   "execution_count": 18,
   "id": "1e5a52a2",
   "metadata": {},
   "outputs": [],
   "source": [
    "data = pd.read_csv(\"F:/ICT/python_programming/dataset_3/Sales_add.csv\")"
   ]
  },
  {
   "cell_type": "code",
   "execution_count": 19,
   "id": "98517ba4",
   "metadata": {},
   "outputs": [
    {
     "ename": "SyntaxError",
     "evalue": "invalid syntax (<ipython-input-19-bb71e0d0c9a2>, line 1)",
     "output_type": "error",
     "traceback": [
      "\u001b[1;36m  File \u001b[1;32m\"<ipython-input-19-bb71e0d0c9a2>\"\u001b[1;36m, line \u001b[1;32m1\u001b[0m\n\u001b[1;33m    Read the input and stored in the variable called data\u001b[0m\n\u001b[1;37m         ^\u001b[0m\n\u001b[1;31mSyntaxError\u001b[0m\u001b[1;31m:\u001b[0m invalid syntax\n"
     ]
    }
   ],
   "source": [
    "Read the input and stored in the variable called data"
   ]
  },
  {
   "cell_type": "code",
   "execution_count": null,
   "id": "7bd63839",
   "metadata": {},
   "outputs": [],
   "source": [
    "data.head()"
   ]
  },
  {
   "cell_type": "code",
   "execution_count": null,
   "id": "b840df2a",
   "metadata": {},
   "outputs": [],
   "source": [
    "data.info()"
   ]
  },
  {
   "cell_type": "code",
   "execution_count": null,
   "id": "37cc3e74",
   "metadata": {},
   "outputs": [],
   "source": [
    "data.describe()"
   ]
  },
  {
   "cell_type": "code",
   "execution_count": null,
   "id": "e4f9691d",
   "metadata": {},
   "outputs": [],
   "source": [
    "data.isna().sum()"
   ]
  },
  {
   "cell_type": "markdown",
   "id": "83c9924a",
   "metadata": {},
   "source": [
    "We studied our dataset and we can conclude that there are 22 rows and 5 columns in the table. and there is no null value in it."
   ]
  },
  {
   "cell_type": "markdown",
   "id": "c7cbb7af",
   "metadata": {},
   "source": [
    "# The company wishes to clarify whether there is any increase in sales after stepping into digital marketing."
   ]
  },
  {
   "cell_type": "markdown",
   "id": "94daf873",
   "metadata": {},
   "source": [
    "Next we have to identify is there any change in sales after stepping into the digital marketing."
   ]
  },
  {
   "cell_type": "code",
   "execution_count": 20,
   "id": "8c6885a5",
   "metadata": {},
   "outputs": [],
   "source": [
    "sales_before = data['Sales_before_digital_add(in $)']\n",
    "sales_after = data['Sales_After_digital_add(in $)']"
   ]
  },
  {
   "cell_type": "markdown",
   "id": "d1acd912",
   "metadata": {},
   "source": [
    "To check that we splitted our dataset into before and after datasets."
   ]
  },
  {
   "cell_type": "code",
   "execution_count": 21,
   "id": "453db156",
   "metadata": {},
   "outputs": [
    {
     "data": {
      "text/plain": [
       "0     132921\n",
       "1     149559\n",
       "2     146278\n",
       "3     152167\n",
       "4     159525\n",
       "5     137163\n",
       "6     130625\n",
       "7     131140\n",
       "8     171259\n",
       "9     141956\n",
       "10    159339\n",
       "11    178939\n",
       "12    145062\n",
       "13    151514\n",
       "14    147463\n",
       "15    177195\n",
       "16    140862\n",
       "17    167996\n",
       "18    132135\n",
       "19    152493\n",
       "20    147425\n",
       "21    130263\n",
       "Name: Sales_before_digital_add(in $), dtype: int64"
      ]
     },
     "execution_count": 21,
     "metadata": {},
     "output_type": "execute_result"
    }
   ],
   "source": [
    "sales_before"
   ]
  },
  {
   "cell_type": "code",
   "execution_count": 22,
   "id": "2073e035",
   "metadata": {},
   "outputs": [
    {
     "data": {
      "text/plain": [
       "0     270390\n",
       "1     223334\n",
       "2     244243\n",
       "3     231808\n",
       "4     258402\n",
       "5     256948\n",
       "6     222106\n",
       "7     230637\n",
       "8     226261\n",
       "9     193735\n",
       "10    203175\n",
       "11    276279\n",
       "12    205180\n",
       "13    253131\n",
       "14    229336\n",
       "15    187305\n",
       "16    234908\n",
       "17    191517\n",
       "18    227040\n",
       "19    212579\n",
       "20    263388\n",
       "21    243020\n",
       "Name: Sales_After_digital_add(in $), dtype: int64"
      ]
     },
     "execution_count": 22,
     "metadata": {},
     "output_type": "execute_result"
    }
   ],
   "source": [
    "sales_after"
   ]
  },
  {
   "cell_type": "markdown",
   "id": "bb95a6da",
   "metadata": {},
   "source": []
  },
  {
   "cell_type": "code",
   "execution_count": 23,
   "id": "72242018",
   "metadata": {},
   "outputs": [
    {
     "data": {
      "text/plain": [
       "count        22.000000\n",
       "mean     149239.954545\n",
       "std       14844.042921\n",
       "min      130263.000000\n",
       "25%      138087.750000\n",
       "50%      147444.000000\n",
       "75%      157627.500000\n",
       "max      178939.000000\n",
       "Name: Sales_before_digital_add(in $), dtype: float64"
      ]
     },
     "execution_count": 23,
     "metadata": {},
     "output_type": "execute_result"
    }
   ],
   "source": [
    "sales_before.describe()"
   ]
  },
  {
   "cell_type": "code",
   "execution_count": 24,
   "id": "8a9811f6",
   "metadata": {
    "scrolled": true
   },
   "outputs": [
    {
     "data": {
      "text/plain": [
       "count        22.000000\n",
       "mean     231123.727273\n",
       "std       25556.777061\n",
       "min      187305.000000\n",
       "25%      214960.750000\n",
       "50%      229986.500000\n",
       "75%      250909.000000\n",
       "max      276279.000000\n",
       "Name: Sales_After_digital_add(in $), dtype: float64"
      ]
     },
     "execution_count": 24,
     "metadata": {},
     "output_type": "execute_result"
    }
   ],
   "source": [
    "sales_after.describe()"
   ]
  },
  {
   "cell_type": "markdown",
   "id": "86cc395f",
   "metadata": {},
   "source": [
    "We can identify the details of each table."
   ]
  },
  {
   "cell_type": "markdown",
   "id": "7649d6e9",
   "metadata": {},
   "source": [
    "# Hypothesis"
   ]
  },
  {
   "cell_type": "markdown",
   "id": "e3a675c0",
   "metadata": {},
   "source": [
    "## Null Hypothesis H0: Sales before stepping into digital marketing < Sales after stepping into digital marketing."
   ]
  },
  {
   "cell_type": "markdown",
   "id": "d17a55c6",
   "metadata": {},
   "source": [
    "## Alternative Hypothesis H1: Sales after stepping into digital marketing = sales before stepping into digital marketing."
   ]
  },
  {
   "cell_type": "markdown",
   "id": "c5e04df1",
   "metadata": {},
   "source": [
    "Here we can see that sample size is 22 only so we can choose T-Test"
   ]
  },
  {
   "cell_type": "markdown",
   "id": "d5c6455c",
   "metadata": {},
   "source": [
    "For this t-test lets assign significance level as 0.05 i.e 5%."
   ]
  },
  {
   "cell_type": "code",
   "execution_count": 25,
   "id": "e4e1cf40",
   "metadata": {},
   "outputs": [
    {
     "data": {
      "text/plain": [
       "Ttest_indResult(statistic=-12.995084451110877, pvalue=2.614368006904645e-16)"
      ]
     },
     "execution_count": 25,
     "metadata": {},
     "output_type": "execute_result"
    }
   ],
   "source": [
    "result = stats.ttest_ind(sales_before, sales_after, equal_var=True)\n",
    "result"
   ]
  },
  {
   "cell_type": "markdown",
   "id": "8cd525dd",
   "metadata": {},
   "source": [
    "Insight: p value is more than significance level(0.05) which implies null hypothesis is true. I.e.  Sales after stepping into digital marketing increased."
   ]
  },
  {
   "cell_type": "code",
   "execution_count": null,
   "id": "452860ad",
   "metadata": {},
   "outputs": [],
   "source": []
  },
  {
   "cell_type": "code",
   "execution_count": null,
   "id": "d4d74f66",
   "metadata": {},
   "outputs": [],
   "source": []
  },
  {
   "cell_type": "markdown",
   "id": "4e824fbb",
   "metadata": {},
   "source": [
    "# The company needs to check whether there is any dependency between the features “Region” and “Manager”. Help the company to carry out their study with the help of data provided."
   ]
  },
  {
   "cell_type": "markdown",
   "id": "58e56def",
   "metadata": {},
   "source": [
    "Here in this scenario we have to check dependancy of two categorical variables. So we can use Chi square test."
   ]
  },
  {
   "cell_type": "markdown",
   "id": "2844fb2d",
   "metadata": {},
   "source": [
    "## NULL HYPOTHESIS H0:  Region and Manager features are independant."
   ]
  },
  {
   "cell_type": "markdown",
   "id": "6b25af2d",
   "metadata": {},
   "source": [
    "## ALTERNATIVE HYPOTHESIS H1:  Region and Manager Features are dependent."
   ]
  },
  {
   "cell_type": "markdown",
   "id": "ebac5d58",
   "metadata": {},
   "source": [
    "Significance level is assumed to be 0.05"
   ]
  },
  {
   "cell_type": "code",
   "execution_count": null,
   "id": "bbd0de3e",
   "metadata": {},
   "outputs": [],
   "source": []
  },
  {
   "cell_type": "code",
   "execution_count": 26,
   "id": "1f1c8181",
   "metadata": {},
   "outputs": [],
   "source": [
    "datareg = data['Region']\n",
    "dataman = data['Manager']"
   ]
  },
  {
   "cell_type": "markdown",
   "id": "eca71ad6",
   "metadata": {},
   "source": [
    "We splitted the dataset into region part and manager part."
   ]
  },
  {
   "cell_type": "code",
   "execution_count": 27,
   "id": "4ee2824b",
   "metadata": {},
   "outputs": [
    {
     "data": {
      "text/html": [
       "<div>\n",
       "<style scoped>\n",
       "    .dataframe tbody tr th:only-of-type {\n",
       "        vertical-align: middle;\n",
       "    }\n",
       "\n",
       "    .dataframe tbody tr th {\n",
       "        vertical-align: top;\n",
       "    }\n",
       "\n",
       "    .dataframe thead th {\n",
       "        text-align: right;\n",
       "    }\n",
       "</style>\n",
       "<table border=\"1\" class=\"dataframe\">\n",
       "  <thead>\n",
       "    <tr style=\"text-align: right;\">\n",
       "      <th>Manager</th>\n",
       "      <th>Manager - A</th>\n",
       "      <th>Manager - B</th>\n",
       "      <th>Manager - C</th>\n",
       "    </tr>\n",
       "    <tr>\n",
       "      <th>Region</th>\n",
       "      <th></th>\n",
       "      <th></th>\n",
       "      <th></th>\n",
       "    </tr>\n",
       "  </thead>\n",
       "  <tbody>\n",
       "    <tr>\n",
       "      <th>Region - A</th>\n",
       "      <td>4</td>\n",
       "      <td>3</td>\n",
       "      <td>3</td>\n",
       "    </tr>\n",
       "    <tr>\n",
       "      <th>Region - B</th>\n",
       "      <td>4</td>\n",
       "      <td>1</td>\n",
       "      <td>2</td>\n",
       "    </tr>\n",
       "    <tr>\n",
       "      <th>Region - C</th>\n",
       "      <td>1</td>\n",
       "      <td>3</td>\n",
       "      <td>1</td>\n",
       "    </tr>\n",
       "  </tbody>\n",
       "</table>\n",
       "</div>"
      ],
      "text/plain": [
       "Manager     Manager - A  Manager - B  Manager - C\n",
       "Region                                           \n",
       "Region - A            4            3            3\n",
       "Region - B            4            1            2\n",
       "Region - C            1            3            1"
      ]
     },
     "execution_count": 27,
     "metadata": {},
     "output_type": "execute_result"
    }
   ],
   "source": [
    "newtab = pd.crosstab(datareg,dataman)\n",
    "newtab"
   ]
  },
  {
   "cell_type": "markdown",
   "id": "a30bcccc",
   "metadata": {},
   "source": [
    "To check is there any relation between region and manager we have to combine those tables for that we used crosstab function."
   ]
  },
  {
   "cell_type": "code",
   "execution_count": 28,
   "id": "aff5ae28",
   "metadata": {},
   "outputs": [],
   "source": [
    "from scipy.stats import chi2_contingency"
   ]
  },
  {
   "cell_type": "code",
   "execution_count": 29,
   "id": "c2983107",
   "metadata": {},
   "outputs": [
    {
     "name": "stdout",
     "output_type": "stream",
     "text": [
      "p value is 0.5493991051158094\n",
      "Independent (H0 holds true)\n"
     ]
    }
   ],
   "source": [
    "stat, p, dof, expected = chi2_contingency(newtab)\n",
    "  \n",
    "# interpret p-value\n",
    "alpha = 0.05\n",
    "print(\"p value is \" + str(p))\n",
    "if p <= alpha:\n",
    "    print('Dependent (reject H0)')\n",
    "else:\n",
    "    print('Independent (H0 holds true)')"
   ]
  },
  {
   "cell_type": "markdown",
   "id": "5741b833",
   "metadata": {},
   "source": [
    "Insight: p value is more than significance level(0.05) which implies null hypothesis is true. I.e.  the features region and managers dont have any dependency"
   ]
  }
 ],
 "metadata": {
  "kernelspec": {
   "display_name": "Python 3",
   "language": "python",
   "name": "python3"
  },
  "language_info": {
   "codemirror_mode": {
    "name": "ipython",
    "version": 3
   },
   "file_extension": ".py",
   "mimetype": "text/x-python",
   "name": "python",
   "nbconvert_exporter": "python",
   "pygments_lexer": "ipython3",
   "version": "3.8.8"
  }
 },
 "nbformat": 4,
 "nbformat_minor": 5
}
