{
 "cells": [
  {
   "cell_type": "markdown",
   "id": "29d12e8e",
   "metadata": {},
   "source": [
    "Importing required packages "
   ]
  },
  {
   "cell_type": "code",
   "execution_count": 22,
   "id": "7005269a",
   "metadata": {},
   "outputs": [],
   "source": [
    "import numpy as np\n",
    "import pandas as pd\n",
    "import matplotlib.pyplot as plt\n",
    "import seaborn as sns"
   ]
  },
  {
   "cell_type": "markdown",
   "id": "e15aa4bb",
   "metadata": {},
   "source": [
    "(1) Reading the dataset"
   ]
  },
  {
   "cell_type": "code",
   "execution_count": 23,
   "id": "362bd08f",
   "metadata": {},
   "outputs": [],
   "source": [
    "inp_data= pd.read_csv('F:/ICT/python_programming/dataset_3/cars_data.csv')"
   ]
  },
  {
   "cell_type": "markdown",
   "id": "19d47eac",
   "metadata": {},
   "source": [
    "To see the first lines of our dataset"
   ]
  },
  {
   "cell_type": "code",
   "execution_count": 24,
   "id": "190eb86f",
   "metadata": {
    "scrolled": true
   },
   "outputs": [
    {
     "data": {
      "text/html": [
       "<div>\n",
       "<style scoped>\n",
       "    .dataframe tbody tr th:only-of-type {\n",
       "        vertical-align: middle;\n",
       "    }\n",
       "\n",
       "    .dataframe tbody tr th {\n",
       "        vertical-align: top;\n",
       "    }\n",
       "\n",
       "    .dataframe thead th {\n",
       "        text-align: right;\n",
       "    }\n",
       "</style>\n",
       "<table border=\"1\" class=\"dataframe\">\n",
       "  <thead>\n",
       "    <tr style=\"text-align: right;\">\n",
       "      <th></th>\n",
       "      <th>Make</th>\n",
       "      <th>Model</th>\n",
       "      <th>Nickname</th>\n",
       "      <th>Car Gender</th>\n",
       "      <th>Buyer Gender</th>\n",
       "      <th>Buyer Age</th>\n",
       "      <th>Buzzword</th>\n",
       "      <th>Country</th>\n",
       "      <th>City</th>\n",
       "      <th>Dealer Latitude</th>\n",
       "      <th>Dealer Longitude</th>\n",
       "      <th>Color</th>\n",
       "      <th>New Car</th>\n",
       "      <th>Purchase Date</th>\n",
       "      <th>Sale Price</th>\n",
       "      <th>Discount</th>\n",
       "      <th>Resell Price</th>\n",
       "      <th>5-yr Depreciation</th>\n",
       "      <th>Top Speed</th>\n",
       "      <th>0-60 Time</th>\n",
       "    </tr>\n",
       "  </thead>\n",
       "  <tbody>\n",
       "    <tr>\n",
       "      <th>0</th>\n",
       "      <td>Suzuki</td>\n",
       "      <td>Vitara</td>\n",
       "      <td>Philippine</td>\n",
       "      <td>Female</td>\n",
       "      <td>Female</td>\n",
       "      <td>51</td>\n",
       "      <td>User-friendly</td>\n",
       "      <td>Belgium</td>\n",
       "      <td>Antwerpen</td>\n",
       "      <td>51.247239</td>\n",
       "      <td>4.440346</td>\n",
       "      <td>Yellow</td>\n",
       "      <td>False</td>\n",
       "      <td>19/07/2009</td>\n",
       "      <td>54806.14</td>\n",
       "      <td>0.2467</td>\n",
       "      <td>33858.32</td>\n",
       "      <td>0.13</td>\n",
       "      <td>200.9</td>\n",
       "      <td>11.5</td>\n",
       "    </tr>\n",
       "    <tr>\n",
       "      <th>1</th>\n",
       "      <td>Honda</td>\n",
       "      <td>S2000</td>\n",
       "      <td>Henrik</td>\n",
       "      <td>Male</td>\n",
       "      <td>Male</td>\n",
       "      <td>30</td>\n",
       "      <td>analyzing</td>\n",
       "      <td>China</td>\n",
       "      <td>Jinhu</td>\n",
       "      <td>33.025433</td>\n",
       "      <td>119.020584</td>\n",
       "      <td>Crimson</td>\n",
       "      <td>False</td>\n",
       "      <td>26/10/2015</td>\n",
       "      <td>51826.30</td>\n",
       "      <td>0.3147</td>\n",
       "      <td>2989.28</td>\n",
       "      <td>0.02</td>\n",
       "      <td>158.5</td>\n",
       "      <td>8.8</td>\n",
       "    </tr>\n",
       "    <tr>\n",
       "      <th>2</th>\n",
       "      <td>BMW</td>\n",
       "      <td>Z4</td>\n",
       "      <td>Lebbie</td>\n",
       "      <td>Male</td>\n",
       "      <td>Female</td>\n",
       "      <td>54</td>\n",
       "      <td>software</td>\n",
       "      <td>China</td>\n",
       "      <td>Gemo</td>\n",
       "      <td>30.916207</td>\n",
       "      <td>121.677640</td>\n",
       "      <td>Khaki</td>\n",
       "      <td>False</td>\n",
       "      <td>28/03/2010</td>\n",
       "      <td>82929.14</td>\n",
       "      <td>0.5414</td>\n",
       "      <td>35049.16</td>\n",
       "      <td>0.24</td>\n",
       "      <td>149.5</td>\n",
       "      <td>14.4</td>\n",
       "    </tr>\n",
       "    <tr>\n",
       "      <th>3</th>\n",
       "      <td>Toyota</td>\n",
       "      <td>Tacoma</td>\n",
       "      <td>Jefferey</td>\n",
       "      <td>Female</td>\n",
       "      <td>Male</td>\n",
       "      <td>68</td>\n",
       "      <td>monitoring</td>\n",
       "      <td>Portugal</td>\n",
       "      <td>Queluz de Baixo</td>\n",
       "      <td>38.745168</td>\n",
       "      <td>-9.267087</td>\n",
       "      <td>Puce</td>\n",
       "      <td>False</td>\n",
       "      <td>07/05/2008</td>\n",
       "      <td>56928.66</td>\n",
       "      <td>0.0850</td>\n",
       "      <td>8236.15</td>\n",
       "      <td>0.20</td>\n",
       "      <td>153.3</td>\n",
       "      <td>11.5</td>\n",
       "    </tr>\n",
       "    <tr>\n",
       "      <th>4</th>\n",
       "      <td>Ford</td>\n",
       "      <td>Festiva</td>\n",
       "      <td>Glendon</td>\n",
       "      <td>Female</td>\n",
       "      <td>Male</td>\n",
       "      <td>70</td>\n",
       "      <td>Sharable</td>\n",
       "      <td>Latvia</td>\n",
       "      <td>Jaunpils</td>\n",
       "      <td>56.729980</td>\n",
       "      <td>23.016588</td>\n",
       "      <td>Yellow</td>\n",
       "      <td>False</td>\n",
       "      <td>01/06/2008</td>\n",
       "      <td>77201.26</td>\n",
       "      <td>0.1642</td>\n",
       "      <td>32765.76</td>\n",
       "      <td>0.18</td>\n",
       "      <td>122.0</td>\n",
       "      <td>14.9</td>\n",
       "    </tr>\n",
       "  </tbody>\n",
       "</table>\n",
       "</div>"
      ],
      "text/plain": [
       "     Make    Model    Nickname Car Gender Buyer Gender  Buyer Age  \\\n",
       "0  Suzuki   Vitara  Philippine     Female       Female         51   \n",
       "1   Honda    S2000      Henrik       Male         Male         30   \n",
       "2     BMW       Z4      Lebbie       Male       Female         54   \n",
       "3  Toyota   Tacoma    Jefferey     Female         Male         68   \n",
       "4    Ford  Festiva     Glendon     Female         Male         70   \n",
       "\n",
       "        Buzzword   Country             City  Dealer Latitude  \\\n",
       "0  User-friendly   Belgium        Antwerpen        51.247239   \n",
       "1      analyzing     China            Jinhu        33.025433   \n",
       "2       software     China             Gemo        30.916207   \n",
       "3     monitoring  Portugal  Queluz de Baixo        38.745168   \n",
       "4       Sharable    Latvia         Jaunpils        56.729980   \n",
       "\n",
       "   Dealer Longitude    Color  New Car Purchase Date  Sale Price  Discount  \\\n",
       "0          4.440346   Yellow    False    19/07/2009    54806.14    0.2467   \n",
       "1        119.020584  Crimson    False    26/10/2015    51826.30    0.3147   \n",
       "2        121.677640    Khaki    False    28/03/2010    82929.14    0.5414   \n",
       "3         -9.267087     Puce    False    07/05/2008    56928.66    0.0850   \n",
       "4         23.016588   Yellow    False    01/06/2008    77201.26    0.1642   \n",
       "\n",
       "   Resell Price  5-yr Depreciation  Top Speed  0-60 Time  \n",
       "0      33858.32               0.13      200.9       11.5  \n",
       "1       2989.28               0.02      158.5        8.8  \n",
       "2      35049.16               0.24      149.5       14.4  \n",
       "3       8236.15               0.20      153.3       11.5  \n",
       "4      32765.76               0.18      122.0       14.9  "
      ]
     },
     "execution_count": 24,
     "metadata": {},
     "output_type": "execute_result"
    }
   ],
   "source": [
    "inp_data.head()"
   ]
  },
  {
   "cell_type": "code",
   "execution_count": 25,
   "id": "f7d14cac",
   "metadata": {},
   "outputs": [
    {
     "data": {
      "text/html": [
       "<div>\n",
       "<style scoped>\n",
       "    .dataframe tbody tr th:only-of-type {\n",
       "        vertical-align: middle;\n",
       "    }\n",
       "\n",
       "    .dataframe tbody tr th {\n",
       "        vertical-align: top;\n",
       "    }\n",
       "\n",
       "    .dataframe thead th {\n",
       "        text-align: right;\n",
       "    }\n",
       "</style>\n",
       "<table border=\"1\" class=\"dataframe\">\n",
       "  <thead>\n",
       "    <tr style=\"text-align: right;\">\n",
       "      <th></th>\n",
       "      <th>Make</th>\n",
       "      <th>Model</th>\n",
       "      <th>Nickname</th>\n",
       "      <th>Car Gender</th>\n",
       "      <th>Buyer Gender</th>\n",
       "      <th>Buyer Age</th>\n",
       "      <th>Buzzword</th>\n",
       "      <th>Country</th>\n",
       "      <th>City</th>\n",
       "      <th>Dealer Latitude</th>\n",
       "      <th>Dealer Longitude</th>\n",
       "      <th>Color</th>\n",
       "      <th>New Car</th>\n",
       "      <th>Purchase Date</th>\n",
       "      <th>Sale Price</th>\n",
       "      <th>Discount</th>\n",
       "      <th>Resell Price</th>\n",
       "      <th>5-yr Depreciation</th>\n",
       "      <th>Top Speed</th>\n",
       "      <th>0-60 Time</th>\n",
       "    </tr>\n",
       "  </thead>\n",
       "  <tbody>\n",
       "    <tr>\n",
       "      <th>9995</th>\n",
       "      <td>Mazda</td>\n",
       "      <td>Tribute</td>\n",
       "      <td>Cooper</td>\n",
       "      <td>Male</td>\n",
       "      <td>Male</td>\n",
       "      <td>44</td>\n",
       "      <td>hardware</td>\n",
       "      <td>Pakistan</td>\n",
       "      <td>Chishtiān Mandi</td>\n",
       "      <td>29.919386</td>\n",
       "      <td>73.074787</td>\n",
       "      <td>Pink</td>\n",
       "      <td>False</td>\n",
       "      <td>05/01/2020</td>\n",
       "      <td>58580.65</td>\n",
       "      <td>0.1611</td>\n",
       "      <td>42640.82</td>\n",
       "      <td>0.14</td>\n",
       "      <td>245.8</td>\n",
       "      <td>8.0</td>\n",
       "    </tr>\n",
       "    <tr>\n",
       "      <th>9996</th>\n",
       "      <td>GMC</td>\n",
       "      <td>Sierra 2500</td>\n",
       "      <td>Dud</td>\n",
       "      <td>Male</td>\n",
       "      <td>Male</td>\n",
       "      <td>40</td>\n",
       "      <td>Enhanced</td>\n",
       "      <td>Costa Rica</td>\n",
       "      <td>Ángeles</td>\n",
       "      <td>10.075000</td>\n",
       "      <td>-84.241523</td>\n",
       "      <td>Puce</td>\n",
       "      <td>False</td>\n",
       "      <td>28/12/2005</td>\n",
       "      <td>75229.74</td>\n",
       "      <td>0.2691</td>\n",
       "      <td>21115.58</td>\n",
       "      <td>0.11</td>\n",
       "      <td>147.4</td>\n",
       "      <td>12.3</td>\n",
       "    </tr>\n",
       "    <tr>\n",
       "      <th>9997</th>\n",
       "      <td>Mercury</td>\n",
       "      <td>Mariner</td>\n",
       "      <td>Chariot</td>\n",
       "      <td>Male</td>\n",
       "      <td>Male</td>\n",
       "      <td>37</td>\n",
       "      <td>monitoring</td>\n",
       "      <td>Poland</td>\n",
       "      <td>Dąbrowice</td>\n",
       "      <td>52.311923</td>\n",
       "      <td>19.084965</td>\n",
       "      <td>Blue</td>\n",
       "      <td>False</td>\n",
       "      <td>08/03/2013</td>\n",
       "      <td>34755.44</td>\n",
       "      <td>0.2493</td>\n",
       "      <td>2731.25</td>\n",
       "      <td>0.12</td>\n",
       "      <td>198.1</td>\n",
       "      <td>11.8</td>\n",
       "    </tr>\n",
       "    <tr>\n",
       "      <th>9998</th>\n",
       "      <td>Daewoo</td>\n",
       "      <td>Leganza</td>\n",
       "      <td>Dynah</td>\n",
       "      <td>Female</td>\n",
       "      <td>Female</td>\n",
       "      <td>21</td>\n",
       "      <td>cohesive</td>\n",
       "      <td>Philippines</td>\n",
       "      <td>Villasis</td>\n",
       "      <td>15.901640</td>\n",
       "      <td>120.587828</td>\n",
       "      <td>Teal</td>\n",
       "      <td>True</td>\n",
       "      <td>21/02/2008</td>\n",
       "      <td>98725.42</td>\n",
       "      <td>0.4654</td>\n",
       "      <td>18718.58</td>\n",
       "      <td>0.04</td>\n",
       "      <td>206.7</td>\n",
       "      <td>12.2</td>\n",
       "    </tr>\n",
       "    <tr>\n",
       "      <th>9999</th>\n",
       "      <td>Toyota</td>\n",
       "      <td>Sequoia</td>\n",
       "      <td>Zedekiah</td>\n",
       "      <td>Female</td>\n",
       "      <td>Male</td>\n",
       "      <td>21</td>\n",
       "      <td>analyzing</td>\n",
       "      <td>Philippines</td>\n",
       "      <td>Basud</td>\n",
       "      <td>14.048167</td>\n",
       "      <td>122.955697</td>\n",
       "      <td>Pink</td>\n",
       "      <td>False</td>\n",
       "      <td>16/12/2017</td>\n",
       "      <td>96769.78</td>\n",
       "      <td>0.5446</td>\n",
       "      <td>4545.95</td>\n",
       "      <td>0.07</td>\n",
       "      <td>242.1</td>\n",
       "      <td>3.2</td>\n",
       "    </tr>\n",
       "  </tbody>\n",
       "</table>\n",
       "</div>"
      ],
      "text/plain": [
       "         Make        Model  Nickname Car Gender Buyer Gender  Buyer Age  \\\n",
       "9995    Mazda      Tribute    Cooper       Male         Male         44   \n",
       "9996      GMC  Sierra 2500       Dud       Male         Male         40   \n",
       "9997  Mercury      Mariner   Chariot       Male         Male         37   \n",
       "9998   Daewoo      Leganza     Dynah     Female       Female         21   \n",
       "9999   Toyota      Sequoia  Zedekiah     Female         Male         21   \n",
       "\n",
       "        Buzzword      Country             City  Dealer Latitude  \\\n",
       "9995    hardware     Pakistan  Chishtiān Mandi        29.919386   \n",
       "9996    Enhanced   Costa Rica          Ángeles        10.075000   \n",
       "9997  monitoring       Poland        Dąbrowice        52.311923   \n",
       "9998    cohesive  Philippines         Villasis        15.901640   \n",
       "9999   analyzing  Philippines            Basud        14.048167   \n",
       "\n",
       "      Dealer Longitude Color  New Car Purchase Date  Sale Price  Discount  \\\n",
       "9995         73.074787  Pink    False    05/01/2020    58580.65    0.1611   \n",
       "9996        -84.241523  Puce    False    28/12/2005    75229.74    0.2691   \n",
       "9997         19.084965  Blue    False    08/03/2013    34755.44    0.2493   \n",
       "9998        120.587828  Teal     True    21/02/2008    98725.42    0.4654   \n",
       "9999        122.955697  Pink    False    16/12/2017    96769.78    0.5446   \n",
       "\n",
       "      Resell Price  5-yr Depreciation  Top Speed  0-60 Time  \n",
       "9995      42640.82               0.14      245.8        8.0  \n",
       "9996      21115.58               0.11      147.4       12.3  \n",
       "9997       2731.25               0.12      198.1       11.8  \n",
       "9998      18718.58               0.04      206.7       12.2  \n",
       "9999       4545.95               0.07      242.1        3.2  "
      ]
     },
     "execution_count": 25,
     "metadata": {},
     "output_type": "execute_result"
    }
   ],
   "source": [
    "inp_data.tail()"
   ]
  },
  {
   "cell_type": "markdown",
   "id": "14e090a5",
   "metadata": {},
   "source": [
    "(2) To check is there any null values in our dataset."
   ]
  },
  {
   "cell_type": "code",
   "execution_count": 26,
   "id": "d6d71b75",
   "metadata": {},
   "outputs": [
    {
     "data": {
      "text/plain": [
       "Make                 0\n",
       "Model                0\n",
       "Nickname             0\n",
       "Car Gender           0\n",
       "Buyer Gender         0\n",
       "Buyer Age            0\n",
       "Buzzword             0\n",
       "Country              0\n",
       "City                 0\n",
       "Dealer Latitude      0\n",
       "Dealer Longitude     0\n",
       "Color                0\n",
       "New Car              0\n",
       "Purchase Date        0\n",
       "Sale Price           0\n",
       "Discount             0\n",
       "Resell Price         0\n",
       "5-yr Depreciation    0\n",
       "Top Speed            0\n",
       "0-60 Time            0\n",
       "dtype: int64"
      ]
     },
     "execution_count": 26,
     "metadata": {},
     "output_type": "execute_result"
    }
   ],
   "source": [
    "inp_data.isnull().sum()"
   ]
  },
  {
   "cell_type": "markdown",
   "id": "922f0bf2",
   "metadata": {},
   "source": [
    "From the dataset we can see that there is no null values in the data set.So no need of further cleaning"
   ]
  },
  {
   "cell_type": "markdown",
   "id": "1e47ea35",
   "metadata": {},
   "source": [
    "Next we can check what all are the datatypes used for the dataset"
   ]
  },
  {
   "cell_type": "code",
   "execution_count": 27,
   "id": "62d4db53",
   "metadata": {},
   "outputs": [
    {
     "data": {
      "text/plain": [
       "Make                  object\n",
       "Model                 object\n",
       "Nickname              object\n",
       "Car Gender            object\n",
       "Buyer Gender          object\n",
       "Buyer Age              int64\n",
       "Buzzword              object\n",
       "Country               object\n",
       "City                  object\n",
       "Dealer Latitude      float64\n",
       "Dealer Longitude     float64\n",
       "Color                 object\n",
       "New Car                 bool\n",
       "Purchase Date         object\n",
       "Sale Price           float64\n",
       "Discount             float64\n",
       "Resell Price         float64\n",
       "5-yr Depreciation    float64\n",
       "Top Speed            float64\n",
       "0-60 Time            float64\n",
       "dtype: object"
      ]
     },
     "execution_count": 27,
     "metadata": {},
     "output_type": "execute_result"
    }
   ],
   "source": [
    "inp_data.dtypes"
   ]
  },
  {
   "cell_type": "markdown",
   "id": "72c07aeb",
   "metadata": {},
   "source": [
    "# 3. Plot a bar graph of male vs female buyers participated in the sales."
   ]
  },
  {
   "cell_type": "markdown",
   "id": "e8837232",
   "metadata": {},
   "source": [
    "We can use value_count function to find the values how many males and female buyers are there."
   ]
  },
  {
   "cell_type": "code",
   "execution_count": 28,
   "id": "6cd0e00b",
   "metadata": {},
   "outputs": [
    {
     "data": {
      "text/plain": [
       "Female    5052\n",
       "Male      4948\n",
       "Name: Buyer Gender, dtype: int64"
      ]
     },
     "execution_count": 28,
     "metadata": {},
     "output_type": "execute_result"
    }
   ],
   "source": [
    "inp_data['Buyer Gender'].value_counts()"
   ]
  },
  {
   "cell_type": "code",
   "execution_count": 29,
   "id": "b3dcff9d",
   "metadata": {},
   "outputs": [
    {
     "data": {
      "text/plain": [
       "Text(0.5, 1.0, 'Male vs Female buyers participated in the sales')"
      ]
     },
     "execution_count": 29,
     "metadata": {},
     "output_type": "execute_result"
    },
    {
     "data": {
      "image/png": "[encoded data removed]",
      "text/plain": [
       "<Figure size 432x288 with 1 Axes>"
      ]
     },
     "metadata": {
      "needs_background": "light"
     },
     "output_type": "display_data"
    }
   ],
   "source": [
    "inp_data['Buyer Gender'].value_counts().plot(kind=\"bar\")\n",
    "plt.xlabel(\"Gender\")\n",
    "plt.ylabel(\"Count of People\")\n",
    "plt.title(\"Male vs Female buyers participated in the sales\")"
   ]
  },
  {
   "cell_type": "markdown",
   "id": "930ed45f",
   "metadata": {},
   "source": [
    "From the graph we can see that both males and female values are aproximately 5000 only"
   ]
  },
  {
   "cell_type": "markdown",
   "id": "ee9fa59b",
   "metadata": {},
   "source": [
    "# 4. Find the top 5 cars based on their sales price."
   ]
  },
  {
   "cell_type": "code",
   "execution_count": 30,
   "id": "d22c6c19",
   "metadata": {},
   "outputs": [
    {
     "data": {
      "text/html": [
       "<div>\n",
       "<style scoped>\n",
       "    .dataframe tbody tr th:only-of-type {\n",
       "        vertical-align: middle;\n",
       "    }\n",
       "\n",
       "    .dataframe tbody tr th {\n",
       "        vertical-align: top;\n",
       "    }\n",
       "\n",
       "    .dataframe thead th {\n",
       "        text-align: right;\n",
       "    }\n",
       "</style>\n",
       "<table border=\"1\" class=\"dataframe\">\n",
       "  <thead>\n",
       "    <tr style=\"text-align: right;\">\n",
       "      <th></th>\n",
       "      <th>Make</th>\n",
       "      <th>Model</th>\n",
       "      <th>Sale Price</th>\n",
       "    </tr>\n",
       "  </thead>\n",
       "  <tbody>\n",
       "    <tr>\n",
       "      <th>5984</th>\n",
       "      <td>Volkswagen</td>\n",
       "      <td>Jetta III</td>\n",
       "      <td>99997.65</td>\n",
       "    </tr>\n",
       "    <tr>\n",
       "      <th>1270</th>\n",
       "      <td>Audi</td>\n",
       "      <td>A6</td>\n",
       "      <td>99991.91</td>\n",
       "    </tr>\n",
       "    <tr>\n",
       "      <th>3460</th>\n",
       "      <td>Lexus</td>\n",
       "      <td>LX</td>\n",
       "      <td>99983.38</td>\n",
       "    </tr>\n",
       "    <tr>\n",
       "      <th>9032</th>\n",
       "      <td>Mazda</td>\n",
       "      <td>MX-6</td>\n",
       "      <td>99978.17</td>\n",
       "    </tr>\n",
       "    <tr>\n",
       "      <th>302</th>\n",
       "      <td>Lexus</td>\n",
       "      <td>ES</td>\n",
       "      <td>99973.44</td>\n",
       "    </tr>\n",
       "  </tbody>\n",
       "</table>\n",
       "</div>"
      ],
      "text/plain": [
       "            Make      Model  Sale Price\n",
       "5984  Volkswagen  Jetta III    99997.65\n",
       "1270        Audi         A6    99991.91\n",
       "3460       Lexus         LX    99983.38\n",
       "9032       Mazda       MX-6    99978.17\n",
       "302        Lexus         ES    99973.44"
      ]
     },
     "execution_count": 30,
     "metadata": {},
     "output_type": "execute_result"
    }
   ],
   "source": [
    "top_data=inp_data.sort_values(by='Sale Price',ascending=False).head(5)\n",
    "top_data[[\"Make\",\"Model\",\"Sale Price\"]]"
   ]
  },
  {
   "cell_type": "markdown",
   "id": "35a2ff13",
   "metadata": {},
   "source": [
    "by using sort_values function we can sort the data by sales price. We need top 5 cars based on their price so we have to arrange it as descending order."
   ]
  },
  {
   "cell_type": "markdown",
   "id": "87b8fb60",
   "metadata": {},
   "source": [
    "# 5. Find the least 5 cars based on their Resell price"
   ]
  },
  {
   "cell_type": "code",
   "execution_count": 31,
   "id": "25a328e4",
   "metadata": {},
   "outputs": [
    {
     "data": {
      "text/html": [
       "<div>\n",
       "<style scoped>\n",
       "    .dataframe tbody tr th:only-of-type {\n",
       "        vertical-align: middle;\n",
       "    }\n",
       "\n",
       "    .dataframe tbody tr th {\n",
       "        vertical-align: top;\n",
       "    }\n",
       "\n",
       "    .dataframe thead th {\n",
       "        text-align: right;\n",
       "    }\n",
       "</style>\n",
       "<table border=\"1\" class=\"dataframe\">\n",
       "  <thead>\n",
       "    <tr style=\"text-align: right;\">\n",
       "      <th></th>\n",
       "      <th>Make</th>\n",
       "      <th>Model</th>\n",
       "      <th>Resell Price</th>\n",
       "    </tr>\n",
       "  </thead>\n",
       "  <tbody>\n",
       "    <tr>\n",
       "      <th>2446</th>\n",
       "      <td>Chevrolet</td>\n",
       "      <td>1500</td>\n",
       "      <td>2000.84</td>\n",
       "    </tr>\n",
       "    <tr>\n",
       "      <th>4933</th>\n",
       "      <td>GMC</td>\n",
       "      <td>Savana 1500</td>\n",
       "      <td>2005.44</td>\n",
       "    </tr>\n",
       "    <tr>\n",
       "      <th>566</th>\n",
       "      <td>Jaguar</td>\n",
       "      <td>XF</td>\n",
       "      <td>2014.09</td>\n",
       "    </tr>\n",
       "    <tr>\n",
       "      <th>2538</th>\n",
       "      <td>Mitsubishi</td>\n",
       "      <td>3000GT</td>\n",
       "      <td>2017.24</td>\n",
       "    </tr>\n",
       "    <tr>\n",
       "      <th>5869</th>\n",
       "      <td>Infiniti</td>\n",
       "      <td>G37</td>\n",
       "      <td>2017.83</td>\n",
       "    </tr>\n",
       "  </tbody>\n",
       "</table>\n",
       "</div>"
      ],
      "text/plain": [
       "            Make        Model  Resell Price\n",
       "2446   Chevrolet         1500       2000.84\n",
       "4933         GMC  Savana 1500       2005.44\n",
       "566       Jaguar           XF       2014.09\n",
       "2538  Mitsubishi       3000GT       2017.24\n",
       "5869    Infiniti          G37       2017.83"
      ]
     },
     "execution_count": 31,
     "metadata": {},
     "output_type": "execute_result"
    }
   ],
   "source": [
    "resell_data=inp_data.sort_values(by='Resell Price').head(5)\n",
    "resell_data[[\"Make\",\"Model\",\"Resell Price\"]]"
   ]
  },
  {
   "cell_type": "markdown",
   "id": "dafaba8a",
   "metadata": {},
   "source": [
    "Here we need 5 cars with least resell price. So by sort_values by default it will sort ascending order based on rsell value."
   ]
  }
 ],
 "metadata": {
  "kernelspec": {
   "display_name": "Python 3",
   "language": "python",
   "name": "python3"
  },
  "language_info": {
   "codemirror_mode": {
    "name": "ipython",
    "version": 3
   },
   "file_extension": ".py",
   "mimetype": "text/x-python",
   "name": "python",
   "nbconvert_exporter": "python",
   "pygments_lexer": "ipython3",
   "version": "3.8.8"
  }
 },
 "nbformat": 4,
 "nbformat_minor": 5
}
